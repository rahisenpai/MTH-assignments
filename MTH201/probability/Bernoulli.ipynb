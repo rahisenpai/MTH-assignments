{
 "cells": [
  {
   "cell_type": "code",
   "execution_count": null,
   "metadata": {},
   "outputs": [],
   "source": [
    "# Getting Python ready\n",
    "from scipy.stats import norm\n",
    "import matplotlib.pyplot as plt\n",
    "import numpy as np\n",
    "import math\n",
    "import textwrap\n",
    "#%matplotlib widget"
   ]
  },
  {
   "attachments": {},
   "cell_type": "markdown",
   "metadata": {},
   "source": [
    "We want to perform an experiment that has a certain number of independent trials (repeats) of tossing a coin. \n",
    "\n",
    "We don't toss a real coin, just use a function that comes close to simulating a coin\n",
    "\n",
    "    aBernoulliExperiment(randomNumGen, bernoulliParam_p=0.5, numRepeatsOfExp = 1, numTrialsInAnExp = 1, profitLoss=[1,0])\n",
    "\n",
    "The first argument is a random number Generator that enables simulations requiring generation of random outcomes. The rest of the arguments should be self-explanatory. We have the Bernoulli parameter (the probability p of heads/ the event of interest), the number of repeats of an experiment, and the number of trials (number of coin tosses) in an experiment.\n",
    "\n",
    "Heads is mapped to profitLoss[0] and Tails is mapped to profitLoss[1]. By default the mapping is as that for a Bernoulli RV."
   ]
  },
  {
   "cell_type": "code",
   "execution_count": null,
   "metadata": {},
   "outputs": [],
   "source": [
    "def aBernoulliExperiment(randomNumGen, bernoulliParam_p=0.5, numRepeatsOfExp = 1, numTrialsInAnExp = 1, profitLoss=[1,0]):\n",
    "    \n",
    "    repeatIndex = 0\n",
    "    observation = np.ones((numRepeatsOfExp, numTrialsInAnExp))\n",
    "    #print(observation)\n",
    "\n",
    "    observation = randomNumGen.random((numRepeatsOfExp, numTrialsInAnExp))\n",
    "\n",
    "    index_ge1 = np.less_equal(observation, bernoulliParam_p)\n",
    "    \n",
    "    observation[index_ge1] = profitLoss[0]\n",
    "    observation[np.invert(index_ge1)] = profitLoss[1]\n",
    "\n",
    "\n",
    "    # while (repeatIndex < numRepeatsOfExp):\n",
    "    #     observation[repeatIndex,:] = randomNumGen.random((1, numTrialsInAnExp))\n",
    "    #     #index_ge1 = np.greater_equal(observation[repeatIndex,:], bernoulliParam_p)\n",
    "    #     index_ge1 = np.less_equal(observation[repeatIndex,:], bernoulliParam_p)\n",
    "        \n",
    "    #     #print(observation[repeatIndex,:])\n",
    "    #     #print(index_ge1)\n",
    "\n",
    "    #     observation[repeatIndex,index_ge1] = profitLoss[0]\n",
    "    #     observation[repeatIndex, np.invert(index_ge1)] = profitLoss[1]\n",
    "\n",
    "    #     #print(observation[repeatIndex,:])\n",
    "\n",
    "    #     #print(np.sum(observation[repeatIndex,:])/numTrialsInAnExp)\n",
    "    #     repeatIndex = repeatIndex + 1\n",
    "    return observation"
   ]
  },
  {
   "attachments": {},
   "cell_type": "markdown",
   "metadata": {},
   "source": [
    "Frequentist performs an experiment that has numTrialsInAnExp=1 independent trials (repeats) of tossing a coin.\n",
    "\n",
    "Frequentist may repeat the above experiment numRepeatsOfExp times.\n",
    "\n",
    "The outcome of the first experiment is observation[0][0]\n",
    "\n",
    "The outcome of the second experiment is observation[1][0]\n",
    "\n",
    "The outcome of the third experiment is observation[2][0]\n",
    "\n",
    "... and so on\n",
    "\n",
    "Note that each experiment's outcome is governed by the same Bernoulli(p) RV. As we increase the number of experiments, the histogram of the outcomes of the experiments begins to look more and more like the PMF of the Bernoulli(p) RV.\n",
    "\n",
    "PS: We will use numTrialsInAnExp > 1 when we simulate a Binomial RV.\n"
   ]
  },
  {
   "cell_type": "code",
   "execution_count": null,
   "metadata": {},
   "outputs": [],
   "source": [
    "v_numTrialsInAnExp = 1\n",
    "v_numRepeatsOfExp = 1000\n",
    "v_bernoulliParam_p = 0.2\n",
    "observation = aBernoulliExperiment(np.random.default_rng(1236), bernoulliParam_p=v_bernoulliParam_p, numRepeatsOfExp = v_numRepeatsOfExp, numTrialsInAnExp = v_numTrialsInAnExp, profitLoss=[1,0])\n",
    "\n",
    "#print(observation)\n"
   ]
  },
  {
   "cell_type": "code",
   "execution_count": null,
   "metadata": {},
   "outputs": [],
   "source": [
    "#Prints and plots\n",
    "# print((\"The array of observations (1 row per experiment repeat):\", observation))\n",
    "# print((\"Frequency of ones  (1 row per experiment repeat):\",np.sum(observation,axis=1)))\n",
    "\n",
    "fig1, (ax1) = plt.subplots(nrows=1, ncols=1, sharex=True)\n",
    "\n",
    "histVal = np.histogram(observation, bins=[0,0.5,1],density=False)\n",
    "#histVal = ax1.hist(observation[0][:], bins=range(0,2), density=False, align='left')\n",
    "\n",
    "print(\"The histogram values are:\", histVal[0])\n",
    "print(\"The histogram values are:\", histVal[1])\n",
    "#print(\"The histogram values are:\", histVal[1][0,2])\n",
    "\n",
    "ax1.bar([0, 1], histVal[0]/v_numRepeatsOfExp, width = 0.01)\n",
    "\n",
    "ax1.set_xlabel(\"x (From Bernoulli Trials)\")\n",
    "ax1.set_ylabel(\"Frequency of x\")\n",
    "fig1.set_label(\"No of Trials of Bern Exp is \" + str(v_numTrialsInAnExp))"
   ]
  },
  {
   "attachments": {},
   "cell_type": "markdown",
   "metadata": {},
   "source": [
    "We have four frequentists performing repeat experiments with a coin. Each chooses to repeat the experiment a different number of times. We observe the differences in the histograms (over outcomes) obtained by the frequentists."
   ]
  },
  {
   "cell_type": "code",
   "execution_count": null,
   "metadata": {},
   "outputs": [],
   "source": [
    "frequentists = []\n",
    "\n",
    "v_bernoulliParam_p = 0.2\n",
    "\n",
    "numRepeats = [5, 10, 100, 10000]\n",
    "\n",
    "observationFreqentist1 = aBernoulliExperiment(np.random.default_rng(123768), bernoulliParam_p=v_bernoulliParam_p, numTrialsInAnExp = 1, numRepeatsOfExp=numRepeats[0], profitLoss=[1,0])\n",
    "observationFreqentist2 = aBernoulliExperiment(np.random.default_rng(123536), bernoulliParam_p=v_bernoulliParam_p, numTrialsInAnExp = 1, numRepeatsOfExp=numRepeats[1], profitLoss=[1,0])\n",
    "observationFreqentist3 = aBernoulliExperiment(np.random.default_rng(173286), bernoulliParam_p=v_bernoulliParam_p, numTrialsInAnExp = 1, numRepeatsOfExp=numRepeats[2], profitLoss=[1,0])\n",
    "observationFreqentist4 = aBernoulliExperiment(np.random.default_rng(198396), bernoulliParam_p=v_bernoulliParam_p, numTrialsInAnExp = 1, numRepeatsOfExp=numRepeats[3], profitLoss=[1,0])\n",
    "\n",
    "frequentists.append(observationFreqentist1)\n",
    "frequentists.append(observationFreqentist2)\n",
    "frequentists.append(observationFreqentist3)\n",
    "frequentists.append(observationFreqentist4)"
   ]
  },
  {
   "cell_type": "code",
   "execution_count": null,
   "metadata": {},
   "outputs": [],
   "source": [
    "#Prints and plots\n",
    "# print((\"The array of observations (1 row per experiment repeat):\", observation))\n",
    "# print((\"Frequency of ones  (1 row per experiment repeat):\",np.sum(observation,axis=1)/v_numTrialsInAnExp))\n",
    "# print(\"The histogram values are:\", histVal)\n",
    "\n",
    "fig, ax = plt.subplots(nrows=2, ncols=2, sharex=False, figsize=(16,8))\n",
    "\n",
    "# plt.subplots_adjust(bottom=0.1, right=0.8, top=0.9)\n",
    "\n",
    "plt.tight_layout(pad = 3.0, w_pad=10.0,h_pad=5.0)\n",
    "\n",
    "fig.set_label(\"No of Trials of Bern Exp is \" + str(v_numTrialsInAnExp))\n",
    "obsIdx = 0;\n",
    "#for rowidx in range(int(np.ceil(v_numRepeats/2))):\n",
    "for rowidx in range(2):\n",
    "    for colidx in range(2):\n",
    "        histVal = np.histogram(frequentists[obsIdx], bins=[0,0.5,1],density=False)\n",
    "        print(\"The histogram values are:\", histVal[0]/numRepeats[obsIdx])\n",
    "        print(\"The histogram values are:\", histVal[1])\n",
    "        ax[rowidx][colidx].bar([0, 1], histVal[0]/numRepeats[obsIdx], width = 0.1)\n",
    "        ax[rowidx][colidx].set_xscale(\"linear\")\n",
    "        ax[rowidx][colidx].set_xlabel(\"x (From Bernoulli Trials)\")\n",
    "        ax[rowidx][colidx].set_ylabel(textwrap.fill(\"Frequency (%) of Unique x\", width = 15))\n",
    "        ax[rowidx][colidx].set_title(\"Num Experiments = \" + str(numRepeats[obsIdx]))\n",
    "        obsIdx = obsIdx + 1\n",
    "        # if obsIdx >= v_numRepeats:\n",
    "        #     rowidx = v_numRepeats\n",
    "        #     colidx=2\n",
    "        #     break\n",
    "\n",
    "# plt.subplot_tool()\n",
    "# plt.show(block=True)\n",
    "\n",
    "\n",
    "print(textwrap.fill(\"Frequency (%) of Unique x\", width = 10))"
   ]
  }
 ],
 "metadata": {
  "kernelspec": {
   "display_name": "base",
   "language": "python",
   "name": "python3"
  },
  "language_info": {
   "codemirror_mode": {
    "name": "ipython",
    "version": 3
   },
   "file_extension": ".py",
   "mimetype": "text/x-python",
   "name": "python",
   "nbconvert_exporter": "python",
   "pygments_lexer": "ipython3",
   "version": "3.10.9"
  },
  "orig_nbformat": 4
 },
 "nbformat": 4,
 "nbformat_minor": 2
}
