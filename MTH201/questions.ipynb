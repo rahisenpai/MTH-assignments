{
 "cells": [
  {
   "attachments": {},
   "cell_type": "markdown",
   "metadata": {},
   "source": [
    "                                                    Simulation HW 1\n",
    "\n",
    "Study the provided code and simulate. Play with the parameters (n,p) and number of experiments to gain an understanding of the simulations. You can use the provided code as you deem fit. I ran it using VS Code with the Jupyter extension. I used Python 3.10.9 installed as part of anaconda 3.\n",
    "\n",
    "All your code must be submitted  as a single ipynb file. Use different cells for different questions. Use markdowns to explain what you are doing and your observations. You can use more than one cell for a question to segregate your code for clarity."
   ]
  },
  {
   "attachments": {},
   "cell_type": "markdown",
   "metadata": {},
   "source": [
    "                                                        Question 1\n",
    "\n",
    "We will model a coin that gives heads with probability $0.2$ as a Bernoulli $(0.2)$ RV. \n",
    "\n",
    "(a) Toss the coin $20$ times. Plot the outcomes against the trial number. You must label the plot appropriately. Explain what you observe in the plot.\n",
    "\n",
    "(b) Now repeat the above 5 times. Plot the outcomes for each repeat against the trial number, all on the same figure. You must label the plot appropriately. Explain what you observe in the plot.\n",
    "\n",
    "For the plots, you may want to use \n",
    "\n",
    "        matplotlib.pyplot.step(x, y, *args, where='pre', data=None, **kwargs)\n",
    "\n",
    "(c) Repeat (a) $100$ times. You will end up with $100$ sequences each of length $20$. Store them in an appropriate array. For each sequence, calculate the total number of $1$ (s) and plot their histogram (with frequency of occurance on the y-axis). Which PMF does the histogram approximate?\n",
    "\n",
    "(d) Starting with the array you obtained in (c), choose all those sequences that sum to at least $3$. For each such sequence, calculate the total number of $1$ (s) and plot their histogram (with frequency of occurance on the y-axis). Which PMF does the histogram approximate?"
   ]
  },
  {
   "attachments": {},
   "cell_type": "markdown",
   "metadata": {},
   "source": [
    "                                                        Question 2\n",
    "\n",
    "Pick four values of $\\alpha$ uniformly and randomly from the interval $(0, 100)$. For each $\\alpha$, simulate a Binomial $(n,p)$, with $n$ chosen for the $\\alpha$ to be as small as possible while providing a reasonable approximation (the PMFs/ histograms look visually similar) of the Poisson $(\\alpha)$. Note that you must also simulate the Poisson RVs. Choose the number of experiements for all the RVs to be large enough to ensure that the resulting histograms are good approximations of the PMFs."
   ]
  },
  {
   "attachments": {},
   "cell_type": "markdown",
   "metadata": {},
   "source": [
    "                                                        Question 3\n",
    "\n",
    "Illustrate the law of large numbers and the central limit theorem for a sum of iid Poisson RVs. Note that the provided code (Binomial.ipynb) does the same for a sum of Bernoulli $(p)$ RVs.\n",
    "\n",
    "Do the above for two values of $\\alpha$ chosen uniformly and randomly from $(1, 20)$. For each value of $\\alpha$ demonstrate the above over an increasing, four long, sequence of number of RVs being added. For example, in the provided code, we simulated $5,10,100,1000$ Bernoulli RVs being summed. Note that you may need a sequence different from the example. Figure out a sequence that shows convergence to a bell shaped curve (central limit theorem) and clustering of the histogram around the mean (law of large numbers)."
   ]
  }
 ],
 "metadata": {
  "language_info": {
   "name": "python"
  },
  "orig_nbformat": 4
 },
 "nbformat": 4,
 "nbformat_minor": 2
}
